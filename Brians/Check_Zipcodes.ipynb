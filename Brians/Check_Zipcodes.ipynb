{
 "cells": [
  {
   "cell_type": "code",
   "execution_count": null,
   "metadata": {},
   "outputs": [],
   "source": [
    "# Dependencies\n",
    "import numpy as np\n",
    "import pandas as pd\n",
    "import matplotlib.pyplot as plt\n",
    "import requests\n",
    "import json\n",
    "from pprint import pprint\n",
    "from config import gkey"
   ]
  },
  {
   "cell_type": "code",
   "execution_count": null,
   "metadata": {},
   "outputs": [],
   "source": [
    "Zipcodes_df = pd.read_csv(\"Final_SE_df.csv\")\n",
    "zips_list = [str(zip) for zip in Zipcodes_df[\"Zipcode\"]]\n",
    "print(len(zips_list))\n",
    "\n",
    "correct_zips = []\n",
    "\n",
    "for zip in zips_list:\n",
    "    while len(zip) < 5:\n",
    "        zip = \"0\" + str(zip)\n",
    "    correct_zips.append(zip)\n",
    "print(len(correct_zips))"
   ]
  },
  {
   "cell_type": "code",
   "execution_count": null,
   "metadata": {},
   "outputs": [],
   "source": [
    "Gmap_lat = []\n",
    "Gmap_lng = []\n",
    "# create a params dict that will be updated with new city each iteration\n",
    "params = {\"key\": gkey}\n",
    "base_url = \"https://maps.googleapis.com/maps/api/geocode/json\"\n",
    "# Loop through the cities_pd and run a lat/long search for each city\n",
    "for x in range(len(correct_zips)):\n",
    "    print(x)\n",
    "    zipcode = correct_zips[x]\n",
    "    params[\"address\"] = f\"{zipcode} zip code\"\n",
    "    try:\n",
    "        \n",
    "       # make request\n",
    "        zip_req = requests.get(base_url, params=params).json()\n",
    "        Gmap_lat.append(zip_req[\"results\"][0][\"geometry\"][\"location\"][\"lat\"])\n",
    "        Gmap_lng.append(zip_req[\"results\"][0][\"geometry\"][\"location\"][\"lng\"])\n",
    "    except:\n",
    "        print(f\"Zipcode {zipcode} didn't work\")\n",
    "\n",
    "print(len(Gmap_lat))\n",
    "print(len(Gmap_lng))"
   ]
  },
  {
   "cell_type": "code",
   "execution_count": null,
   "metadata": {},
   "outputs": [],
   "source": []
  },
  {
   "cell_type": "code",
   "execution_count": null,
   "metadata": {},
   "outputs": [],
   "source": []
  }
 ],
 "metadata": {
  "kernelspec": {
   "display_name": "Python 3",
   "language": "python",
   "name": "python3"
  },
  "language_info": {
   "codemirror_mode": {
    "name": "ipython",
    "version": 3
   },
   "file_extension": ".py",
   "mimetype": "text/x-python",
   "name": "python",
   "nbconvert_exporter": "python",
   "pygments_lexer": "ipython3",
   "version": "3.6.4"
  }
 },
 "nbformat": 4,
 "nbformat_minor": 2
}
